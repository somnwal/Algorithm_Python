{
  "nbformat": 4,
  "nbformat_minor": 0,
  "metadata": {
    "colab": {
      "provenance": [],
      "collapsed_sections": [
        "eC0vUezH-Bf_"
      ],
      "authorship_tag": "ABX9TyNVJoCL3akabWz+EZocD/4L",
      "include_colab_link": true
    },
    "kernelspec": {
      "name": "python3",
      "display_name": "Python 3"
    },
    "language_info": {
      "name": "python"
    }
  },
  "cells": [
    {
      "cell_type": "markdown",
      "metadata": {
        "id": "view-in-github",
        "colab_type": "text"
      },
      "source": [
        "<a href=\"https://colab.research.google.com/github/somnwal/Algorithm_Python/blob/main/%EB%AC%B8%EC%A0%9C2.ipynb\" target=\"_parent\"><img src=\"https://colab.research.google.com/assets/colab-badge.svg\" alt=\"Open In Colab\"/></a>"
      ]
    },
    {
      "cell_type": "markdown",
      "source": [
        "# 다리 놓기\n",
        "https://www.acmicpc.net/problem/1010"
      ],
      "metadata": {
        "id": "eC0vUezH-Bf_"
      }
    },
    {
      "cell_type": "code",
      "execution_count": null,
      "metadata": {
        "colab": {
          "base_uri": "https://localhost:8080/"
        },
        "id": "aHUWuKpg-Bf_",
        "outputId": "67b5a8c2-8cb9-4d82-e75d-69644144df37"
      },
      "outputs": [
        {
          "output_type": "stream",
          "name": "stdout",
          "text": [
            "3\n",
            "2 2\n",
            "1\n",
            "1 5\n",
            "5\n",
            "13 29\n",
            "67863915\n"
          ]
        }
      ],
      "source": [
        "from math import factorial\n",
        "\n",
        "t = int(input())\n",
        "\n",
        "def ncr(n, r):\n",
        "  return int(factorial(n) / (factorial(n-r) * factorial(r)))\n",
        "\n",
        "for _ in range(t):\n",
        "  n, r = map(int, input().split())\n",
        "  print(ncr(max(n, r), min(n, r)))"
      ]
    },
    {
      "cell_type": "markdown",
      "source": [
        "# 피보나치 함수\n",
        "https://acmicpc.net/problem/1003"
      ],
      "metadata": {
        "id": "Dhm3cmRT-JwZ"
      }
    },
    {
      "cell_type": "code",
      "execution_count": null,
      "metadata": {
        "id": "AHq70GDW-JwZ",
        "colab": {
          "base_uri": "https://localhost:8080/"
        },
        "outputId": "a2dd6ed2-3089-4475-e409-51ab0d0a5e44"
      },
      "outputs": [
        {
          "output_type": "stream",
          "name": "stdout",
          "text": [
            "3\n",
            "0\n",
            "1 0\n",
            "1\n",
            "0 1\n",
            "3\n",
            "1 2\n"
          ]
        }
      ],
      "source": [
        "t = int(input())\n",
        "\n",
        "for _ in range(t):\n",
        "  n = int(input())\n",
        "\n",
        "  dp_zero = [1, 0] + [0] * (n-1)\n",
        "  dp_one = [0, 1] + [0] * (n-1)\n",
        "\n",
        "  for i in range(2, n+1):\n",
        "    dp_zero[i] = dp_zero[i-2] + dp_zero[i-1]\n",
        "    dp_one[i] = dp_one[i-2] + dp_one[i-1]\n",
        "\n",
        "  print(dp_zero[n], dp_one[n])"
      ]
    },
    {
      "cell_type": "markdown",
      "source": [
        "# 안녕\n",
        "https://www.acmicpc.net/problem/1535"
      ],
      "metadata": {
        "id": "WVe2eTlP-J-n"
      }
    },
    {
      "cell_type": "code",
      "execution_count": null,
      "metadata": {
        "id": "C0xakCyy-J-n",
        "colab": {
          "base_uri": "https://localhost:8080/"
        },
        "outputId": "6d6cba6c-9aa2-4a45-ba65-8880125e02b7"
      },
      "outputs": [
        {
          "output_type": "stream",
          "name": "stdout",
          "text": [
            "3\n",
            "1 21 79\n",
            "20 30 25\n",
            "50\n"
          ]
        }
      ],
      "source": [
        "import sys\n",
        "\n",
        "input = sys.stdin.readline\n",
        "\n",
        "N = int(input())\n",
        "L = list(map(int, input().split()))\n",
        "J = list(map(int, input().split()))\n",
        "\n",
        "L, J = [0] + L, [0] + J\n",
        "dp = [[0 for _ in range(101)] for _ in range(N+1)]\n",
        "\n",
        "for i in range(1, N+1):\n",
        "    for j in range(1, 101):\n",
        "        if L[i] <= j:\n",
        "            dp[i][j] = max(dp[i-1][j], dp[i-1][j-L[i]] + J[i])\n",
        "        else:\n",
        "            dp[i][j] = dp[i-1][j]\n",
        "\n",
        "print(dp[N][99])"
      ]
    },
    {
      "cell_type": "markdown",
      "source": [
        "# 숫자카드 2\n",
        "https://www.acmicpc.net/problem/10816"
      ],
      "metadata": {
        "id": "Ts1KhRXR-Kcv"
      }
    },
    {
      "cell_type": "code",
      "source": [
        "import sys\n",
        "input = sys.stdin.readline"
      ],
      "metadata": {
        "id": "HfErE1i4IDXW"
      },
      "execution_count": null,
      "outputs": []
    },
    {
      "cell_type": "code",
      "execution_count": 9,
      "metadata": {
        "id": "_0P3RlFN-Kcw",
        "colab": {
          "base_uri": "https://localhost:8080/"
        },
        "outputId": "a40247a7-570b-4b83-f258-c2ae03a41527"
      },
      "outputs": [
        {
          "output_type": "stream",
          "name": "stdout",
          "text": [
            "10\n",
            "6 3 2 10 10 10 -10 -10 7 3\n",
            "8\n",
            "10 9 -5 2 3 4 5 -10\n",
            "3 0 0 1 2 0 0 2\n"
          ]
        }
      ],
      "source": [
        "dic = {}\n",
        "\n",
        "n = int(input())\n",
        "\n",
        "for num in input().split():\n",
        "  if num in dic:\n",
        "    dic[num] += 1\n",
        "  else:\n",
        "    dic[num] = 1\n",
        "\n",
        "m = int(input())\n",
        "\n",
        "res = []\n",
        "\n",
        "for num in input().split():\n",
        "  if num not in dic:\n",
        "    res.append('0')\n",
        "  else:\n",
        "    res.append(str(dic[num]))\n",
        "\n",
        "print(' '.join(res))"
      ]
    },
    {
      "cell_type": "markdown",
      "source": [
        "# 뒤집기\n",
        "https://www.acmicpc.net/problem/1439"
      ],
      "metadata": {
        "id": "CFFYxMcg-K0H"
      }
    },
    {
      "cell_type": "code",
      "execution_count": null,
      "metadata": {
        "id": "XjUHyp57-K0I"
      },
      "outputs": [],
      "source": [
        "import sys\n",
        "input = sys.stdin.readline"
      ]
    },
    {
      "cell_type": "code",
      "source": [
        "s = input().rstrip()\n",
        "\n",
        "zc = sum(len(l) != 0 for l in s.split('1'))\n",
        "oc = sum(len(l) != 0 for l in s.split('0'))\n",
        "\n",
        "if zc >= oc:\n",
        "  print(oc)\n",
        "else:\n",
        "  print(zc)"
      ],
      "metadata": {
        "colab": {
          "base_uri": "https://localhost:8080/"
        },
        "id": "fcMu6ubZLQ3A",
        "outputId": "3ec1ab48-9c71-4382-8e37-0c8b84b5265a"
      },
      "execution_count": 15,
      "outputs": [
        {
          "output_type": "stream",
          "name": "stdout",
          "text": [
            "00000001\n",
            "1\n"
          ]
        }
      ]
    },
    {
      "cell_type": "markdown",
      "source": [
        "\n",
        "# 쇠막대기\n",
        "https://www.acmicpc.net/problem/10799"
      ],
      "metadata": {
        "id": "oWG0si8x-LFH"
      }
    },
    {
      "cell_type": "code",
      "execution_count": null,
      "metadata": {
        "id": "iH4yGMOr-LFH"
      },
      "outputs": [],
      "source": [
        "import sys\n",
        "input = sys.stdin.readline"
      ]
    },
    {
      "cell_type": "code",
      "source": [
        "s = input().rstrip()\n",
        "\n",
        "stack = []\n",
        "result = 0\n",
        "for i in range(len(s)):\n",
        "  if s[i] == '(':\n",
        "    stack.append(s[i])\n",
        "  else:\n",
        "    if s[i-1] == '(':\n",
        "      stack.pop()\n",
        "      result += len(stack)\n",
        "    else:\n",
        "      stack.pop()\n",
        "      result += 1\n",
        "\n",
        "print(result)"
      ],
      "metadata": {
        "colab": {
          "base_uri": "https://localhost:8080/"
        },
        "id": "N9hCVXKoNWZX",
        "outputId": "3c81b88c-ccf0-49f2-c99f-7ce5ec164503"
      },
      "execution_count": 30,
      "outputs": [
        {
          "output_type": "stream",
          "name": "stdout",
          "text": [
            "(((()(()()))(())()))(()())\n",
            "24\n"
          ]
        }
      ]
    },
    {
      "cell_type": "markdown",
      "source": [
        "\n",
        "# 괄호\n",
        "https://www.acmicpc.net/problem/9012"
      ],
      "metadata": {
        "id": "lN0-UX9xNX_n"
      }
    },
    {
      "cell_type": "code",
      "execution_count": null,
      "metadata": {
        "id": "-9aXJLceNX_o"
      },
      "outputs": [],
      "source": [
        "import sys\n",
        "input = sys.stdin.readline"
      ]
    },
    {
      "cell_type": "code",
      "source": [
        "t = int(input())\n",
        "\n",
        "for _ in range(t):\n",
        "  s = input().rstrip()\n",
        "\n",
        "  while '()' in s:\n",
        "    s = s.replace('()', '')\n",
        "\n",
        "  if len(s) == 0:\n",
        "    print('YES')\n",
        "  else:\n",
        "    print('NO')"
      ],
      "metadata": {
        "colab": {
          "base_uri": "https://localhost:8080/"
        },
        "id": "nvDoJA-_NX_o",
        "outputId": "4d63d8e9-ee34-4b7b-9f88-9aeb31d4ce3d"
      },
      "execution_count": 42,
      "outputs": [
        {
          "output_type": "stream",
          "name": "stdout",
          "text": [
            "3\n",
            "(())())\n",
            "NO\n",
            "()()()()(()()())()\n",
            "YES\n",
            "(()((())()(\n",
            "NO\n"
          ]
        }
      ]
    },
    {
      "cell_type": "markdown",
      "source": [
        "# 삼각형 외우기\n",
        "https://www.acmicpc.net/problem/10101"
      ],
      "metadata": {
        "id": "M34gyTAXNefo"
      }
    },
    {
      "cell_type": "code",
      "execution_count": null,
      "metadata": {
        "id": "u9ydbcUBNefv"
      },
      "outputs": [],
      "source": [
        "import sys\n",
        "input = sys.stdin.readline"
      ]
    },
    {
      "cell_type": "code",
      "source": [
        "a = int(input().rstrip())\n",
        "b = int(input().rstrip())\n",
        "c = int(input().rstrip())\n",
        "\n",
        "if a == b == c == 60:\n",
        "  print('Equilateral')\n",
        "elif a+b+c == 180 and ((a == b) or (b == c) or (a == c)):\n",
        "  print('Isosceles')\n",
        "elif a+b+c == 180 and ((a != b) and (b != c) and (a != c)):\n",
        "  print('Scalene')\n",
        "elif a+b+c != 180:\n",
        "  print('Error')"
      ],
      "metadata": {
        "colab": {
          "base_uri": "https://localhost:8080/"
        },
        "id": "-ncmoIqvNefv",
        "outputId": "f1eb58e4-d421-49f2-af1d-48f5be966322"
      },
      "execution_count": 47,
      "outputs": [
        {
          "output_type": "stream",
          "name": "stdout",
          "text": [
            "60\n",
            "60\n",
            "60\n",
            "Equilateral\n"
          ]
        }
      ]
    },
    {
      "cell_type": "markdown",
      "source": [
        "# 로봇청소기\n",
        "https://www.acmicpc.net/problem/14503"
      ],
      "metadata": {
        "id": "xmeC7SNuNezI"
      }
    },
    {
      "cell_type": "code",
      "execution_count": null,
      "metadata": {
        "id": "TDQf6ndvNezI"
      },
      "outputs": [],
      "source": [
        "import sys\n",
        "input = sys.stdin.readline"
      ]
    },
    {
      "cell_type": "code",
      "source": [
        "m, n = map(int, input().rstrip().split())\n",
        "\n",
        "# 0 북 / 1 동 / 2 남 / 3 서\n",
        "x, y, d = map(int, input().rstrip().split())\n",
        "\n",
        "mat = []\n",
        "dx, dy = [0, 1, 0, -1], [-1, 0, 1, 0]\n",
        "\n",
        "for _ in range(m):\n",
        "  mat.append(input().rstrip().split())\n",
        "\n",
        "stop = False\n",
        "cur = 0\n",
        "cnt = 0\n",
        "\n",
        "while stop == False:\n",
        "  if mat[x][y] == '0':\n",
        "    mat[x][y] = '2'\n",
        "    cnt += 1\n",
        "\n",
        "  is_blank = False\n",
        "\n",
        "  for i in range(4):\n",
        "    if mat[x + dx[i]][y + dy[i]] == '0':\n",
        "      is_blank = True\n",
        "      break\n",
        "\n",
        "  if is_blank:\n",
        "    d -= 1\n",
        "\n",
        "    if d < 0:\n",
        "      d = 3\n",
        "\n",
        "    if mat[x + dx[d]][y + dy[d]] == '0':\n",
        "      x = x + dx[d]\n",
        "      y = y + dy[d]\n",
        "  else:\n",
        "    if mat[x - dx[d]][y - dy[y]] == '1':\n",
        "      stop = True\n",
        "    else:\n",
        "      x = x - dx[d]\n",
        "      y = y - dy[d]\n",
        "\n",
        "print(cnt)\n"
      ],
      "metadata": {
        "colab": {
          "base_uri": "https://localhost:8080/",
          "height": 415
        },
        "id": "GGZkqhgONezI",
        "outputId": "9d9f9f55-47ea-4a98-91df-b90a603e8ab0"
      },
      "execution_count": 53,
      "outputs": [
        {
          "output_type": "error",
          "ename": "KeyboardInterrupt",
          "evalue": "ignored",
          "traceback": [
            "\u001b[0;31m---------------------------------------------------------------------------\u001b[0m",
            "\u001b[0;31mKeyboardInterrupt\u001b[0m                         Traceback (most recent call last)",
            "\u001b[0;32m<ipython-input-53-8885460b282e>\u001b[0m in \u001b[0;36m<cell line: 1>\u001b[0;34m()\u001b[0m\n\u001b[0;32m----> 1\u001b[0;31m \u001b[0mm\u001b[0m\u001b[0;34m,\u001b[0m \u001b[0mn\u001b[0m \u001b[0;34m=\u001b[0m \u001b[0mmap\u001b[0m\u001b[0;34m(\u001b[0m\u001b[0mint\u001b[0m\u001b[0;34m,\u001b[0m \u001b[0minput\u001b[0m\u001b[0;34m(\u001b[0m\u001b[0;34m)\u001b[0m\u001b[0;34m.\u001b[0m\u001b[0mrstrip\u001b[0m\u001b[0;34m(\u001b[0m\u001b[0;34m)\u001b[0m\u001b[0;34m.\u001b[0m\u001b[0msplit\u001b[0m\u001b[0;34m(\u001b[0m\u001b[0;34m)\u001b[0m\u001b[0;34m)\u001b[0m\u001b[0;34m\u001b[0m\u001b[0;34m\u001b[0m\u001b[0m\n\u001b[0m\u001b[1;32m      2\u001b[0m \u001b[0;34m\u001b[0m\u001b[0m\n\u001b[1;32m      3\u001b[0m \u001b[0;31m# 0 북 / 1 동 / 2 남 / 3 서\u001b[0m\u001b[0;34m\u001b[0m\u001b[0;34m\u001b[0m\u001b[0m\n\u001b[1;32m      4\u001b[0m \u001b[0mx\u001b[0m\u001b[0;34m,\u001b[0m \u001b[0my\u001b[0m\u001b[0;34m,\u001b[0m \u001b[0md\u001b[0m \u001b[0;34m=\u001b[0m \u001b[0mmap\u001b[0m\u001b[0;34m(\u001b[0m\u001b[0mint\u001b[0m\u001b[0;34m,\u001b[0m \u001b[0minput\u001b[0m\u001b[0;34m(\u001b[0m\u001b[0;34m)\u001b[0m\u001b[0;34m.\u001b[0m\u001b[0mrstrip\u001b[0m\u001b[0;34m(\u001b[0m\u001b[0;34m)\u001b[0m\u001b[0;34m.\u001b[0m\u001b[0msplit\u001b[0m\u001b[0;34m(\u001b[0m\u001b[0;34m)\u001b[0m\u001b[0;34m)\u001b[0m\u001b[0;34m\u001b[0m\u001b[0;34m\u001b[0m\u001b[0m\n\u001b[1;32m      5\u001b[0m \u001b[0;34m\u001b[0m\u001b[0m\n",
            "\u001b[0;32m/usr/local/lib/python3.10/dist-packages/ipykernel/kernelbase.py\u001b[0m in \u001b[0;36mraw_input\u001b[0;34m(self, prompt)\u001b[0m\n\u001b[1;32m    849\u001b[0m                 \u001b[0;34m\"raw_input was called, but this frontend does not support input requests.\"\u001b[0m\u001b[0;34m\u001b[0m\u001b[0;34m\u001b[0m\u001b[0m\n\u001b[1;32m    850\u001b[0m             )\n\u001b[0;32m--> 851\u001b[0;31m         return self._input_request(str(prompt),\n\u001b[0m\u001b[1;32m    852\u001b[0m             \u001b[0mself\u001b[0m\u001b[0;34m.\u001b[0m\u001b[0m_parent_ident\u001b[0m\u001b[0;34m,\u001b[0m\u001b[0;34m\u001b[0m\u001b[0;34m\u001b[0m\u001b[0m\n\u001b[1;32m    853\u001b[0m             \u001b[0mself\u001b[0m\u001b[0;34m.\u001b[0m\u001b[0m_parent_header\u001b[0m\u001b[0;34m,\u001b[0m\u001b[0;34m\u001b[0m\u001b[0;34m\u001b[0m\u001b[0m\n",
            "\u001b[0;32m/usr/local/lib/python3.10/dist-packages/ipykernel/kernelbase.py\u001b[0m in \u001b[0;36m_input_request\u001b[0;34m(self, prompt, ident, parent, password)\u001b[0m\n\u001b[1;32m    893\u001b[0m             \u001b[0;32mexcept\u001b[0m \u001b[0mKeyboardInterrupt\u001b[0m\u001b[0;34m:\u001b[0m\u001b[0;34m\u001b[0m\u001b[0;34m\u001b[0m\u001b[0m\n\u001b[1;32m    894\u001b[0m                 \u001b[0;31m# re-raise KeyboardInterrupt, to truncate traceback\u001b[0m\u001b[0;34m\u001b[0m\u001b[0;34m\u001b[0m\u001b[0m\n\u001b[0;32m--> 895\u001b[0;31m                 \u001b[0;32mraise\u001b[0m \u001b[0mKeyboardInterrupt\u001b[0m\u001b[0;34m(\u001b[0m\u001b[0;34m\"Interrupted by user\"\u001b[0m\u001b[0;34m)\u001b[0m \u001b[0;32mfrom\u001b[0m \u001b[0;32mNone\u001b[0m\u001b[0;34m\u001b[0m\u001b[0;34m\u001b[0m\u001b[0m\n\u001b[0m\u001b[1;32m    896\u001b[0m             \u001b[0;32mexcept\u001b[0m \u001b[0mException\u001b[0m \u001b[0;32mas\u001b[0m \u001b[0me\u001b[0m\u001b[0;34m:\u001b[0m\u001b[0;34m\u001b[0m\u001b[0;34m\u001b[0m\u001b[0m\n\u001b[1;32m    897\u001b[0m                 \u001b[0mself\u001b[0m\u001b[0;34m.\u001b[0m\u001b[0mlog\u001b[0m\u001b[0;34m.\u001b[0m\u001b[0mwarning\u001b[0m\u001b[0;34m(\u001b[0m\u001b[0;34m\"Invalid Message:\"\u001b[0m\u001b[0;34m,\u001b[0m \u001b[0mexc_info\u001b[0m\u001b[0;34m=\u001b[0m\u001b[0;32mTrue\u001b[0m\u001b[0;34m)\u001b[0m\u001b[0;34m\u001b[0m\u001b[0;34m\u001b[0m\u001b[0m\n",
            "\u001b[0;31mKeyboardInterrupt\u001b[0m: Interrupted by user"
          ]
        }
      ]
    },
    {
      "cell_type": "markdown",
      "source": [
        "\n",
        "# 2\n",
        "https://www.acmicpc.net/problem/10799"
      ],
      "metadata": {
        "id": "IYD6QSSBNe9f"
      }
    },
    {
      "cell_type": "code",
      "execution_count": null,
      "metadata": {
        "id": "NtrgMnH-Ne9g"
      },
      "outputs": [],
      "source": [
        "import sys\n",
        "input = sys.stdin.readline"
      ]
    },
    {
      "cell_type": "code",
      "source": [],
      "metadata": {
        "id": "oJwSBUMDNe9g"
      },
      "execution_count": null,
      "outputs": []
    },
    {
      "cell_type": "markdown",
      "source": [
        "\n",
        "# 2\n",
        "https://www.acmicpc.net/problem/10799"
      ],
      "metadata": {
        "id": "oWL85B4rNfCo"
      }
    },
    {
      "cell_type": "code",
      "execution_count": null,
      "metadata": {
        "id": "8JGb8SQPNfCo"
      },
      "outputs": [],
      "source": [
        "import sys\n",
        "input = sys.stdin.readline"
      ]
    },
    {
      "cell_type": "code",
      "source": [],
      "metadata": {
        "id": "QZajvc2bNfCo"
      },
      "execution_count": null,
      "outputs": []
    },
    {
      "cell_type": "markdown",
      "source": [
        "\n",
        "# 2\n",
        "https://www.acmicpc.net/problem/10799"
      ],
      "metadata": {
        "id": "daZYCI29NfFY"
      }
    },
    {
      "cell_type": "code",
      "execution_count": null,
      "metadata": {
        "id": "OoyBG96uNfFY"
      },
      "outputs": [],
      "source": [
        "import sys\n",
        "input = sys.stdin.readline"
      ]
    },
    {
      "cell_type": "code",
      "source": [],
      "metadata": {
        "id": "xQAUZHaaNfFZ"
      },
      "execution_count": null,
      "outputs": []
    },
    {
      "cell_type": "markdown",
      "source": [
        "\n",
        "# 2\n",
        "https://www.acmicpc.net/problem/10799"
      ],
      "metadata": {
        "id": "ZvjY3OoWNfH6"
      }
    },
    {
      "cell_type": "code",
      "execution_count": null,
      "metadata": {
        "id": "Po3RcdUpNfH6"
      },
      "outputs": [],
      "source": [
        "import sys\n",
        "input = sys.stdin.readline"
      ]
    },
    {
      "cell_type": "code",
      "source": [],
      "metadata": {
        "id": "nWSrU-m-NfH6"
      },
      "execution_count": null,
      "outputs": []
    },
    {
      "cell_type": "markdown",
      "source": [
        "\n",
        "# 2\n",
        "https://www.acmicpc.net/problem/10799"
      ],
      "metadata": {
        "id": "9PoMD7FRNfK1"
      }
    },
    {
      "cell_type": "code",
      "execution_count": null,
      "metadata": {
        "id": "SHrtBaqjNfK2"
      },
      "outputs": [],
      "source": [
        "import sys\n",
        "input = sys.stdin.readline"
      ]
    },
    {
      "cell_type": "code",
      "source": [],
      "metadata": {
        "id": "qI9ImXgfNfK2"
      },
      "execution_count": null,
      "outputs": []
    },
    {
      "cell_type": "markdown",
      "source": [
        "\n",
        "# 2\n",
        "https://www.acmicpc.net/problem/10799"
      ],
      "metadata": {
        "id": "gfcJQ9dhNfMp"
      }
    },
    {
      "cell_type": "code",
      "execution_count": null,
      "metadata": {
        "id": "gMp3Exl4NfMp"
      },
      "outputs": [],
      "source": [
        "import sys\n",
        "input = sys.stdin.readline"
      ]
    },
    {
      "cell_type": "code",
      "source": [],
      "metadata": {
        "id": "bBn9vgeuNfMp"
      },
      "execution_count": null,
      "outputs": []
    },
    {
      "cell_type": "markdown",
      "source": [
        "\n",
        "# 2\n",
        "https://www.acmicpc.net/problem/10799"
      ],
      "metadata": {
        "id": "aszKjm9XNfQX"
      }
    },
    {
      "cell_type": "code",
      "execution_count": null,
      "metadata": {
        "id": "F5CLo_lcNfQX"
      },
      "outputs": [],
      "source": [
        "import sys\n",
        "input = sys.stdin.readline"
      ]
    },
    {
      "cell_type": "code",
      "source": [],
      "metadata": {
        "id": "O2nsBkDXNfQX"
      },
      "execution_count": null,
      "outputs": []
    },
    {
      "cell_type": "markdown",
      "source": [
        "\n",
        "# 2\n",
        "https://www.acmicpc.net/problem/10799"
      ],
      "metadata": {
        "id": "jKKrysmINfSn"
      }
    },
    {
      "cell_type": "code",
      "execution_count": null,
      "metadata": {
        "id": "jnY47K0gNfSo"
      },
      "outputs": [],
      "source": [
        "import sys\n",
        "input = sys.stdin.readline"
      ]
    },
    {
      "cell_type": "code",
      "source": [],
      "metadata": {
        "id": "Y5ugzB2vNfSo"
      },
      "execution_count": null,
      "outputs": []
    },
    {
      "cell_type": "markdown",
      "source": [
        "\n",
        "# 2\n",
        "https://www.acmicpc.net/problem/10799"
      ],
      "metadata": {
        "id": "4inqHYsBNfUV"
      }
    },
    {
      "cell_type": "code",
      "execution_count": null,
      "metadata": {
        "id": "Le_I5qJUNfUW"
      },
      "outputs": [],
      "source": [
        "import sys\n",
        "input = sys.stdin.readline"
      ]
    },
    {
      "cell_type": "code",
      "source": [],
      "metadata": {
        "id": "3Un_cgbXNfUW"
      },
      "execution_count": null,
      "outputs": []
    },
    {
      "cell_type": "markdown",
      "source": [
        "\n",
        "# 2\n",
        "https://www.acmicpc.net/problem/10799"
      ],
      "metadata": {
        "id": "bAWNMIgvNfV5"
      }
    },
    {
      "cell_type": "code",
      "execution_count": null,
      "metadata": {
        "id": "qppoiljTNfV5"
      },
      "outputs": [],
      "source": [
        "import sys\n",
        "input = sys.stdin.readline"
      ]
    },
    {
      "cell_type": "code",
      "source": [],
      "metadata": {
        "id": "l8D4JG35NfV5"
      },
      "execution_count": null,
      "outputs": []
    },
    {
      "cell_type": "markdown",
      "source": [
        "\n",
        "# 2\n",
        "https://www.acmicpc.net/problem/10799"
      ],
      "metadata": {
        "id": "p32n_hbbNfX9"
      }
    },
    {
      "cell_type": "code",
      "execution_count": null,
      "metadata": {
        "id": "8XcE9YQaNfX-"
      },
      "outputs": [],
      "source": [
        "import sys\n",
        "input = sys.stdin.readline"
      ]
    },
    {
      "cell_type": "code",
      "source": [],
      "metadata": {
        "id": "UGjrWKs4NfX-"
      },
      "execution_count": null,
      "outputs": []
    },
    {
      "cell_type": "markdown",
      "source": [
        "\n",
        "# 2\n",
        "https://www.acmicpc.net/problem/10799"
      ],
      "metadata": {
        "id": "TJHAc0cINfZj"
      }
    },
    {
      "cell_type": "code",
      "execution_count": null,
      "metadata": {
        "id": "hCICE8BkNfZk"
      },
      "outputs": [],
      "source": [
        "import sys\n",
        "input = sys.stdin.readline"
      ]
    },
    {
      "cell_type": "code",
      "source": [],
      "metadata": {
        "id": "VYfwaHpRNfZk"
      },
      "execution_count": null,
      "outputs": []
    },
    {
      "cell_type": "markdown",
      "source": [
        "\n",
        "# 2\n",
        "https://www.acmicpc.net/problem/10799"
      ],
      "metadata": {
        "id": "dz_qWl4ENfbh"
      }
    },
    {
      "cell_type": "code",
      "execution_count": null,
      "metadata": {
        "id": "JE83QRLQNfbi"
      },
      "outputs": [],
      "source": [
        "import sys\n",
        "input = sys.stdin.readline"
      ]
    },
    {
      "cell_type": "code",
      "source": [],
      "metadata": {
        "id": "wNst4gJzNfbi"
      },
      "execution_count": null,
      "outputs": []
    },
    {
      "cell_type": "markdown",
      "source": [
        "\n",
        "# 2\n",
        "https://www.acmicpc.net/problem/10799"
      ],
      "metadata": {
        "id": "YBMj-ohtNfd8"
      }
    },
    {
      "cell_type": "code",
      "execution_count": null,
      "metadata": {
        "id": "9Z6ec_g_Nfd9"
      },
      "outputs": [],
      "source": [
        "import sys\n",
        "input = sys.stdin.readline"
      ]
    },
    {
      "cell_type": "code",
      "source": [],
      "metadata": {
        "id": "Qy7j_vJRNfd9"
      },
      "execution_count": null,
      "outputs": []
    },
    {
      "cell_type": "markdown",
      "source": [
        "\n",
        "# 2\n",
        "https://www.acmicpc.net/problem/10799"
      ],
      "metadata": {
        "id": "4ehx7hwBNffP"
      }
    },
    {
      "cell_type": "code",
      "execution_count": null,
      "metadata": {
        "id": "outUaSY-NffP"
      },
      "outputs": [],
      "source": [
        "import sys\n",
        "input = sys.stdin.readline"
      ]
    },
    {
      "cell_type": "code",
      "source": [],
      "metadata": {
        "id": "mIlNTjx6NffP"
      },
      "execution_count": null,
      "outputs": []
    },
    {
      "cell_type": "markdown",
      "source": [
        "\n",
        "# 2\n",
        "https://www.acmicpc.net/problem/10799"
      ],
      "metadata": {
        "id": "IvBXF_rwNfhX"
      }
    },
    {
      "cell_type": "code",
      "execution_count": null,
      "metadata": {
        "id": "BVzT6em_NfhX"
      },
      "outputs": [],
      "source": [
        "import sys\n",
        "input = sys.stdin.readline"
      ]
    },
    {
      "cell_type": "code",
      "source": [],
      "metadata": {
        "id": "yyMyg2qzNfhX"
      },
      "execution_count": null,
      "outputs": []
    },
    {
      "cell_type": "markdown",
      "source": [
        "\n",
        "# 2\n",
        "https://www.acmicpc.net/problem/10799"
      ],
      "metadata": {
        "id": "cgxJCJb2NfjH"
      }
    },
    {
      "cell_type": "code",
      "execution_count": null,
      "metadata": {
        "id": "ONYukEBqNfjI"
      },
      "outputs": [],
      "source": [
        "import sys\n",
        "input = sys.stdin.readline"
      ]
    },
    {
      "cell_type": "code",
      "source": [],
      "metadata": {
        "id": "O2cb5fNMNfjI"
      },
      "execution_count": null,
      "outputs": []
    },
    {
      "cell_type": "markdown",
      "source": [
        "\n",
        "# 2\n",
        "https://www.acmicpc.net/problem/10799"
      ],
      "metadata": {
        "id": "AcYsGtqkNfk2"
      }
    },
    {
      "cell_type": "code",
      "execution_count": null,
      "metadata": {
        "id": "bs--SI7mNfk2"
      },
      "outputs": [],
      "source": [
        "import sys\n",
        "input = sys.stdin.readline"
      ]
    },
    {
      "cell_type": "code",
      "source": [],
      "metadata": {
        "id": "WJ3wMAkINfk3"
      },
      "execution_count": null,
      "outputs": []
    },
    {
      "cell_type": "markdown",
      "source": [
        "\n",
        "# 2\n",
        "https://www.acmicpc.net/problem/10799"
      ],
      "metadata": {
        "id": "Legg0RyINfoX"
      }
    },
    {
      "cell_type": "code",
      "execution_count": null,
      "metadata": {
        "id": "lfjRjt2MNfoX"
      },
      "outputs": [],
      "source": [
        "import sys\n",
        "input = sys.stdin.readline"
      ]
    },
    {
      "cell_type": "code",
      "source": [],
      "metadata": {
        "id": "9kUeyXh1NfoX"
      },
      "execution_count": null,
      "outputs": []
    },
    {
      "cell_type": "markdown",
      "source": [
        "# Polynesiaglot (Small1)\n",
        "https://www.acmicpc.net/problem/12037"
      ],
      "metadata": {
        "id": "1N6rI9dm-A6B"
      }
    },
    {
      "cell_type": "code",
      "execution_count": null,
      "metadata": {
        "id": "SddjzoMH9UFD"
      },
      "outputs": [],
      "source": []
    },
    {
      "cell_type": "markdown",
      "source": [
        "# 다음 팰린드롬 수\n",
        "https://www.acmicpc.net/problem/1334"
      ],
      "metadata": {
        "id": "O5VLM3Hp-E4P"
      }
    },
    {
      "cell_type": "code",
      "execution_count": null,
      "metadata": {
        "colab": {
          "base_uri": "https://localhost:8080/"
        },
        "id": "DJQJxEMR-E4Q",
        "outputId": "606603fb-d840-47a9-8781-226f502dfa5d"
      },
      "outputs": [
        {
          "output_type": "stream",
          "name": "stdout",
          "text": [
            "1\n",
            "2\n"
          ]
        }
      ],
      "source": [
        "n = int(input())\n",
        "\n",
        "n += 1\n",
        "\n",
        "while True:\n",
        "  tmp = str(n)\n",
        "  if tmp == tmp[::-1]:\n",
        "    print(tmp)\n",
        "    break\n",
        "\n",
        "  n += 1"
      ]
    },
    {
      "cell_type": "markdown",
      "source": [
        "# 제곱수의 합\n",
        "https://www.acmicpc.net/problem/1699"
      ],
      "metadata": {
        "id": "0t8LvgQM-KJP"
      }
    },
    {
      "cell_type": "code",
      "source": [
        "import sys\n",
        "input = sys.stdin.readline"
      ],
      "metadata": {
        "id": "S-CexAyL58n1"
      },
      "execution_count": null,
      "outputs": []
    },
    {
      "cell_type": "code",
      "execution_count": 4,
      "metadata": {
        "id": "u00UjHbn-KJP",
        "colab": {
          "base_uri": "https://localhost:8080/"
        },
        "outputId": "cbd154f0-82bb-4f67-9733-6092af16ace7"
      },
      "outputs": [
        {
          "output_type": "stream",
          "name": "stdout",
          "text": [
            "5\n",
            "3 1 0\n",
            "[0, 1, 0, 1, 0, 0]\n",
            "4 2 1\n",
            "[0, 1, 0, 1, 1, 0]\n",
            "5 2 1\n",
            "[0, 1, 0, 1, 1, 1]\n"
          ]
        }
      ],
      "source": [
        "n = int(input())\n",
        "\n",
        "#1 = 1 = 1\n",
        "#2 = 2 = 1 + 1\n",
        "#3 = 3 = 1 + 1 + 1\n",
        "#4 = 1 = 2^2\n",
        "#5 = 2 = 2^2 + 1\n",
        "#6 = 3 = 2^2 + 1 + 1\n",
        "#7 = 4 = 2^2 + 1 + 1 + 1\n",
        "#8 = 2 = 2^2 + 2^2\n",
        "#9 = 1 = 3^3\n",
        "#10 = 2 = 3^3 + 1\n",
        "#11 = 3 = 3^3 + 1 + 1\n",
        "#12 = 4 = 3^3 + 1 + 1 + 1\n",
        "#13 = 2 = 3^3 + 2^2\n",
        "#14 = 3 = 3^3 + 2^2 + 1\n",
        "#15 = 4 = 3^3 + 2^2 + 1 + 1\n",
        "#16 = 1 = 4^2\n",
        "\n",
        "dp = [0, 1] + [0 for _ in range(n-1)]\n",
        "\n",
        "for i in range(3, n+1):\n",
        "  print(i, i//2, i//2//2)\n",
        "  dp[i] = dp[i//2] + dp[i//2//2]\n",
        "\n",
        "  print(dp)\n",
        "\n"
      ]
    }
  ]
}